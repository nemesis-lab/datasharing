{
  "nbformat": 4,
  "nbformat_minor": 0,
  "metadata": {
    "colab": {
      "name": "week_4_PAGD",
      "provenance": [],
      "mount_file_id": "1Ji4_EQ7t9iKJqv28uSTLpEAz4Iq_OF4A",
      "authorship_tag": "ABX9TyNBzL3IABmkCPBaYf1F6zPd",
      "include_colab_link": true
    },
    "kernelspec": {
      "name": "python3",
      "display_name": "Python 3"
    },
    "language_info": {
      "name": "python"
    }
  },
  "cells": [
    {
      "cell_type": "markdown",
      "metadata": {
        "id": "view-in-github",
        "colab_type": "text"
      },
      "source": [
        "<a href=\"https://colab.research.google.com/github/nemesis-lab/datasharing/blob/master/week_4_PAGD.ipynb\" target=\"_parent\"><img src=\"https://colab.research.google.com/assets/colab-badge.svg\" alt=\"Open In Colab\"/></a>"
      ]
    },
    {
      "cell_type": "markdown",
      "metadata": {
        "id": "hOsmzdI2QwAs"
      },
      "source": [
        "Clones data set"
      ]
    },
    {
      "cell_type": "code",
      "metadata": {
        "colab": {
          "base_uri": "https://localhost:8080/"
        },
        "id": "yMU_Co9E9heI",
        "outputId": "727ba995-6f0a-44ee-817c-0b565a4dbc13"
      },
      "source": [
        "!git clone https://github.com/roryk/tiny-test-data"
      ],
      "execution_count": null,
      "outputs": [
        {
          "output_type": "stream",
          "name": "stdout",
          "text": [
            "Cloning into 'tiny-test-data'...\n",
            "remote: Enumerating objects: 264, done.\u001b[K\n",
            "remote: Total 264 (delta 0), reused 0 (delta 0), pack-reused 264\u001b[K\n",
            "Receiving objects: 100% (264/264), 9.18 MiB | 25.88 MiB/s, done.\n",
            "Resolving deltas: 100% (62/62), done.\n"
          ]
        }
      ]
    },
    {
      "cell_type": "markdown",
      "metadata": {
        "id": "QHTvhPyXQ2pD"
      },
      "source": [
        "Installs Novoalign (V03.09.04)"
      ]
    },
    {
      "cell_type": "code",
      "metadata": {
        "id": "xq9Fg16K0TdR"
      },
      "source": [
        "!command tar -xzf /content/drive/MyDrive/novocraftV3.09.04.Linux3.10.0.tar.gz"
      ],
      "execution_count": null,
      "outputs": []
    },
    {
      "cell_type": "code",
      "metadata": {
        "colab": {
          "base_uri": "https://localhost:8080/"
        },
        "id": "OXlk_zkb02OZ",
        "outputId": "2921fb1c-c71d-4d8f-d7c5-3d0d483f7b02"
      },
      "source": [
        "!/content/novocraft/novoalign"
      ],
      "execution_count": null,
      "outputs": [
        {
          "output_type": "stream",
          "name": "stdout",
          "text": [
            "Novoalign V3.09.04 - Build Oct  4 2019 @ 11:49:27\n",
            "# License file: \n",
            "# Licensed for evaluation, educational, and not-for-profit use only. Expires on: (null) (DD/MM/YYYY)\n",
            "\n",
            "Usage:\n",
            "    novoalign [options]\n",
            "\n",
            "Options...\n",
            "    --help             Print a more complete description of available options.\n",
            "    --version          Display version information.\n",
            "    -d <dbname>        Full pathname of indexed reference sequence from novoindex. Required.\n",
            "Read processing options...\n",
            "    -f <read1> [read2] Filenames for the read sequences. Required.\n",
            "    -i [PE|MP] <99>[-|,]<99>  Sets mode and expected fragment length distribution.\n",
            "    -F <format> [tags] Used to specify file format if Novoalign can't auto detect it. Values: FASTA,STDFQ,ILMFQ,ILM1.8,BAM\n",
            "                       Optional 'tags' is list of SAM tags (e.g. RX,QX&BC)to copy from input BAM to output SAM file.\n",
            "    -a [adapter1] [adapter2]  Enables 3' adapter trimming.\n",
            "    -p <9>,<9> [0.9,9] Sets polyclonal filter thresholds. Try -p 5,20 for NextSeq and Patterned flow cells.\n",
            "    -H [t]             Hard clip trailing bases with quality <= t. Suggested -H 20\n",
            "Reporting Options...\n",
            "    -o SAM ['@RG..']   Sets SAM report format with @RG record.\n",
            "    -R <99>            Sets score difference between best and second best alignment for calling multiple mappings. Default 5.\n",
            "    -r <strategy> [99] Allows reporting multiple mappings for each read. Try -r Random for BWA like behaviour.\n",
            "    -C                 Append FASTA/Q comments such as BC,RX&QX tags to SAM output.\n",
            "    --amplicons <bedfile>    Softclip amplicon primers from alignments.\n",
            "Alignment Scoring Options...\n",
            "    -t <a,b>           Alignment score threshold is set based on read length L (sum of pairs) using formula (L-a)*b. Try -t 20,3\n",
            "    -g <99>            Sets the gap opening penalty. Default 40\n",
            "    -x <99>            Sets the gap extend penalty. Default 6\n",
            "    --matchreward <9>  Sets a match reward. Typically set to the gap extend penalty or a bit higher. Default 0\n",
            "    --softclip <99>[,<99>]    Sets rewards for alignments that extend to 5' or 3' ends of a read without softclipping.\n",
            "                       Try --softclip 40,0\n",
            "    --hlimit <99>      Enables alignment score limit factor for low complexity reads. Try --hlimit 8\n",
            "Bi-Seq Options...\n",
            "    -u <99>            Penalty for unconverted CHG or CHH cytosine in bisulfite alignment mode. Default 0\n",
            "    -b <2|4>           Sets Bisulphite alignment mode.\n",
            "\n",
            "                      \u001b[33;7mPLEASE READ THE MANUAL FOR MORE DETAILS AND OPTIONS.\u001b[0m\n",
            "\n",
            " (c) 2008-2017 Novocraft Technologies Sdn Bhd\n"
          ]
        }
      ]
    },
    {
      "cell_type": "markdown",
      "metadata": {
        "id": "p_6JJnUURCK0"
      },
      "source": [
        "Creates a index of reference genome with Novoalign (V03.09.04)"
      ]
    },
    {
      "cell_type": "code",
      "metadata": {
        "colab": {
          "base_uri": "https://localhost:8080/"
        },
        "id": "GdGdi9-_-w_n",
        "outputId": "2e71093b-0ec4-4d60-c45c-31c31e0a9bc5"
      },
      "source": [
        "!/content/novocraft/novoindex hg18.nix /content/tiny-test-data/genomes/Hsapiens/hg19/seq/hg19.fa"
      ],
      "execution_count": null,
      "outputs": [
        {
          "output_type": "stream",
          "name": "stdout",
          "text": [
            "# novoindex (3.9) - Universal k-mer index constructor.\n",
            "# (C) 2008 - 2011 NovoCraft Technologies Sdn Bhd\n",
            "# novoindex hg18.nix /content/tiny-test-data/genomes/Hsapiens/hg19/seq/hg19.fa \n",
            "# Creating 2 indexing threads.\n",
            "# Building with 9-mer and step of 1 bp.\n",
            "# novoindex construction dT = 0.0s\n",
            "# Index memory size   0.001Gbyte.\n",
            "# Done.\n"
          ]
        }
      ]
    },
    {
      "cell_type": "markdown",
      "metadata": {
        "id": "4IykgyFJRJ8s"
      },
      "source": [
        "Maps the samples (alignment) with Novoalign (V03.09.04)"
      ]
    },
    {
      "cell_type": "code",
      "metadata": {
        "id": "O5IH9wZxAk50"
      },
      "source": [
        "!gunzip /content/tiny-test-data/wgs/mt_1.fq.gz\n",
        "!gunzip /content/tiny-test-data/wgs/mt_2.fq.gz"
      ],
      "execution_count": null,
      "outputs": []
    },
    {
      "cell_type": "code",
      "metadata": {
        "id": "qXlDJgut_x-7"
      },
      "source": [
        "!/content/novocraft/novoalign -d /content/hg18.nix -f /content/tiny-test-data/wgs/mt_1.fq /content/tiny-test-data/wgs/mt_2.fq -o SAM > alignments.sam 2> log.txt"
      ],
      "execution_count": null,
      "outputs": []
    },
    {
      "cell_type": "markdown",
      "metadata": {
        "id": "kraeE92tRZ00"
      },
      "source": [
        "Use \"awk\" to get MAPping Quality mean"
      ]
    },
    {
      "cell_type": "code",
      "metadata": {
        "colab": {
          "base_uri": "https://localhost:8080/"
        },
        "id": "JdvRWiQ9BKFG",
        "outputId": "82031938-0fd1-415e-dbeb-e47455d552f6"
      },
      "source": [
        "!awk '{ total += $5 } END { print total/NR }' /content/alignments.sam"
      ],
      "execution_count": null,
      "outputs": [
        {
          "output_type": "stream",
          "name": "stdout",
          "text": [
            "67.9255\n"
          ]
        }
      ]
    },
    {
      "cell_type": "markdown",
      "metadata": {
        "id": "AizAmm7lRmCW"
      },
      "source": [
        "Installs BWA"
      ]
    },
    {
      "cell_type": "code",
      "metadata": {
        "colab": {
          "base_uri": "https://localhost:8080/"
        },
        "id": "7zVlIxfpBYjL",
        "outputId": "f8f3757b-c819-4513-d034-b0878524403d"
      },
      "source": [
        "!sudo apt-get install bwa"
      ],
      "execution_count": null,
      "outputs": [
        {
          "output_type": "stream",
          "name": "stdout",
          "text": [
            "Reading package lists... Done\n",
            "Building dependency tree       \n",
            "Reading state information... Done\n",
            "Suggested packages:\n",
            "  samtools\n",
            "The following NEW packages will be installed:\n",
            "  bwa\n",
            "0 upgraded, 1 newly installed, 0 to remove and 37 not upgraded.\n",
            "Need to get 176 kB of archives.\n",
            "After this operation, 404 kB of additional disk space will be used.\n",
            "Get:1 http://archive.ubuntu.com/ubuntu bionic-updates/universe amd64 bwa amd64 0.7.17-1ubuntu0.1 [176 kB]\n",
            "Fetched 176 kB in 1s (295 kB/s)\n",
            "debconf: unable to initialize frontend: Dialog\n",
            "debconf: (No usable dialog-like program is installed, so the dialog based frontend cannot be used. at /usr/share/perl5/Debconf/FrontEnd/Dialog.pm line 76, <> line 1.)\n",
            "debconf: falling back to frontend: Readline\n",
            "debconf: unable to initialize frontend: Readline\n",
            "debconf: (This frontend requires a controlling tty.)\n",
            "debconf: falling back to frontend: Teletype\n",
            "dpkg-preconfigure: unable to re-open stdin: \n",
            "Selecting previously unselected package bwa.\n",
            "(Reading database ... 155047 files and directories currently installed.)\n",
            "Preparing to unpack .../bwa_0.7.17-1ubuntu0.1_amd64.deb ...\n",
            "Unpacking bwa (0.7.17-1ubuntu0.1) ...\n",
            "Setting up bwa (0.7.17-1ubuntu0.1) ...\n",
            "Processing triggers for man-db (2.8.3-2ubuntu0.1) ...\n"
          ]
        }
      ]
    },
    {
      "cell_type": "markdown",
      "metadata": {
        "id": "EXQ3U6-GRt0a"
      },
      "source": [
        "Maps the samples (alignment) with BWA"
      ]
    },
    {
      "cell_type": "code",
      "metadata": {
        "colab": {
          "base_uri": "https://localhost:8080/"
        },
        "id": "kdhN7huDBm68",
        "outputId": "1cbe9d5a-fdd0-4b53-cdea-77afd8d07186"
      },
      "source": [
        "!bwa mem /content/tiny-test-data/genomes/Hsapiens/hg19/bwa/hg19.fa /content/tiny-test-data/wgs/mt_1.fq /content/tiny-test-data/wgs/mt_2.fq >alinhado_mem.sam"
      ],
      "execution_count": null,
      "outputs": [
        {
          "output_type": "stream",
          "name": "stdout",
          "text": [
            "[M::bwa_idx_load_from_disk] read 0 ALT contigs\n",
            "[M::process] read 9194 sequences (928594 bp)...\n",
            "[M::mem_pestat] # candidate unique pairs for (FF, FR, RF, RR): (0, 4485, 0, 0)\n",
            "[M::mem_pestat] skip orientation FF as there are not enough pairs\n",
            "[M::mem_pestat] analyzing insert size distribution for orientation FR...\n",
            "[M::mem_pestat] (25, 50, 75) percentile: (333, 343, 354)\n",
            "[M::mem_pestat] low and high boundaries for computing mean and std.dev: (291, 396)\n",
            "[M::mem_pestat] mean and std.dev: (343.30, 15.10)\n",
            "[M::mem_pestat] low and high boundaries for proper pairs: (270, 417)\n",
            "[M::mem_pestat] skip orientation RF as there are not enough pairs\n",
            "[M::mem_pestat] skip orientation RR as there are not enough pairs\n",
            "[M::mem_process_seqs] Processed 9194 reads in 0.257 CPU sec, 0.261 real sec\n",
            "[main] Version: 0.7.17-r1188\n",
            "[main] CMD: bwa mem /content/tiny-test-data/genomes/Hsapiens/hg19/bwa/hg19.fa /content/tiny-test-data/wgs/mt_1.fq /content/tiny-test-data/wgs/mt_2.fq\n",
            "[main] Real time: 0.297 sec; CPU: 0.277 sec\n"
          ]
        }
      ]
    },
    {
      "cell_type": "markdown",
      "metadata": {
        "id": "lUN5qYqUSPwl"
      },
      "source": [
        "Use \"awk\" to get MAPping Quality mean"
      ]
    },
    {
      "cell_type": "code",
      "metadata": {
        "colab": {
          "base_uri": "https://localhost:8080/"
        },
        "id": "VvGBKFv3DO2y",
        "outputId": "8cf0e423-39f5-4334-f334-12cefff35e1a"
      },
      "source": [
        "!awk '{ total += $5 } END { print total/NR }' /content/alinhado_mem.sam"
      ],
      "execution_count": null,
      "outputs": [
        {
          "output_type": "stream",
          "name": "stdout",
          "text": [
            "59.8115\n"
          ]
        }
      ]
    },
    {
      "cell_type": "markdown",
      "metadata": {
        "id": "62tNxtDnYTqK"
      },
      "source": [
        "Gets MAPping Quality (Phred-scaled) and sends to file"
      ]
    },
    {
      "cell_type": "code",
      "metadata": {
        "id": "nMdwCBnwHXZ4"
      },
      "source": [
        "!awk '{print $5}' /content/alinhado_mem.sam >saida_alinhado.txt"
      ],
      "execution_count": null,
      "outputs": []
    },
    {
      "cell_type": "code",
      "metadata": {
        "id": "sExlav3yISS8"
      },
      "source": [
        "!awk '{print $5}' /content/alignments.sam >output_alignments.txt"
      ],
      "execution_count": null,
      "outputs": []
    },
    {
      "cell_type": "markdown",
      "metadata": {
        "id": "lgvxN8WBYj_T"
      },
      "source": [
        "Installs SAMTOLS"
      ]
    },
    {
      "cell_type": "code",
      "metadata": {
        "colab": {
          "base_uri": "https://localhost:8080/"
        },
        "id": "9u9gyY8bTFxO",
        "outputId": "4cc55fd5-def2-4d2d-82d7-2cef7d1c3665"
      },
      "source": [
        "!sudo apt-get install samtools"
      ],
      "execution_count": null,
      "outputs": [
        {
          "output_type": "stream",
          "name": "stdout",
          "text": [
            "Reading package lists... Done\n",
            "Building dependency tree       \n",
            "Reading state information... Done\n",
            "The following additional packages will be installed:\n",
            "  cwltool libc-ares2 libhts2 libjs-bootstrap nodejs nodejs-doc\n",
            "  python-asn1crypto python-avro python-cachecontrol python-certifi\n",
            "  python-cffi-backend python-chardet python-cryptography python-enum34\n",
            "  python-html5lib python-idna python-ipaddress python-isodate python-lockfile\n",
            "  python-mistune python-openssl python-pkg-resources python-pyparsing\n",
            "  python-rdflib python-rdflib-jsonld python-requests python-ruamel.yaml\n",
            "  python-schema-salad python-shellescape python-six python-sparqlwrapper\n",
            "  python-typing python-urllib3 python-webencodings\n",
            "Suggested packages:\n",
            "  python-cryptography-doc python-cryptography-vectors python-enum34-doc\n",
            "  python-genshi python-lxml python-lockfile-doc python-openssl-doc\n",
            "  python-openssl-dbg python-setuptools python-pyparsing-doc python-rdflib-doc\n",
            "  python-rdflib-tools python-socks python-ntlm\n",
            "The following NEW packages will be installed:\n",
            "  cwltool libc-ares2 libhts2 libjs-bootstrap nodejs nodejs-doc\n",
            "  python-asn1crypto python-avro python-cachecontrol python-certifi\n",
            "  python-cffi-backend python-chardet python-cryptography python-enum34\n",
            "  python-html5lib python-idna python-ipaddress python-isodate python-lockfile\n",
            "  python-mistune python-openssl python-pkg-resources python-pyparsing\n",
            "  python-rdflib python-rdflib-jsonld python-requests python-ruamel.yaml\n",
            "  python-schema-salad python-shellescape python-six python-sparqlwrapper\n",
            "  python-typing python-urllib3 python-webencodings samtools\n",
            "0 upgraded, 35 newly installed, 0 to remove and 37 not upgraded.\n",
            "Need to get 8,568 kB of archives.\n",
            "After this operation, 41.0 MB of additional disk space will be used.\n",
            "Get:1 http://archive.ubuntu.com/ubuntu bionic/main amd64 python-pkg-resources all 39.0.1-2 [128 kB]\n",
            "Get:2 http://archive.ubuntu.com/ubuntu bionic/main amd64 python-six all 1.11.0-2 [11.3 kB]\n",
            "Get:3 http://archive.ubuntu.com/ubuntu bionic/universe amd64 python-isodate all 0.6.0-1 [23.8 kB]\n",
            "Get:4 http://archive.ubuntu.com/ubuntu bionic/main amd64 python-pyparsing all 2.2.0+dfsg1-2 [52.1 kB]\n",
            "Get:5 http://archive.ubuntu.com/ubuntu bionic/universe amd64 python-rdflib all 4.2.1-2 [237 kB]\n",
            "Get:6 http://archive.ubuntu.com/ubuntu bionic/main amd64 python-certifi all 2018.1.18-2 [144 kB]\n",
            "Get:7 http://archive.ubuntu.com/ubuntu bionic/main amd64 python-chardet all 3.0.4-1 [80.3 kB]\n",
            "Get:8 http://archive.ubuntu.com/ubuntu bionic/main amd64 python-idna all 2.6-1 [32.4 kB]\n",
            "Get:9 http://archive.ubuntu.com/ubuntu bionic-updates/main amd64 python-urllib3 all 1.22-1ubuntu0.18.04.2 [86.0 kB]\n",
            "Get:10 http://archive.ubuntu.com/ubuntu bionic-updates/main amd64 python-requests all 2.18.4-2ubuntu0.1 [58.5 kB]\n",
            "Get:11 http://archive.ubuntu.com/ubuntu bionic/universe amd64 python-ruamel.yaml amd64 0.15.34-1 [183 kB]\n",
            "Get:12 http://archive.ubuntu.com/ubuntu bionic/universe amd64 python-cachecontrol all 0.11.7-1 [15.2 kB]\n",
            "Get:13 http://archive.ubuntu.com/ubuntu bionic/main amd64 python-lockfile all 1:0.12.2-2 [14.6 kB]\n",
            "Get:14 http://archive.ubuntu.com/ubuntu bionic/universe amd64 python-mistune all 0.8.3-2 [13.8 kB]\n",
            "Get:15 http://archive.ubuntu.com/ubuntu bionic/universe amd64 python-rdflib-jsonld all 0.4.0-3 [12.2 kB]\n",
            "Get:16 http://archive.ubuntu.com/ubuntu bionic/universe amd64 python-typing all 3.6.2-1 [22.2 kB]\n",
            "Get:17 http://archive.ubuntu.com/ubuntu bionic/universe amd64 python-avro all 1.8.2+dfsg-1 [23.2 kB]\n",
            "Get:18 http://archive.ubuntu.com/ubuntu bionic/universe amd64 libjs-bootstrap all 3.3.7+dfsg-2 [228 kB]\n",
            "Get:19 http://archive.ubuntu.com/ubuntu bionic/universe amd64 python-schema-salad all 2.6.20171201034858-3 [260 kB]\n",
            "Get:20 http://archive.ubuntu.com/ubuntu bionic/universe amd64 python-shellescape all 3.4.1-2 [4,432 B]\n",
            "Get:21 http://archive.ubuntu.com/ubuntu bionic/universe amd64 cwltool all 1.0.20180302231433-1 [143 kB]\n",
            "Get:22 http://archive.ubuntu.com/ubuntu bionic/universe amd64 libhts2 amd64 1.7-2 [300 kB]\n",
            "Get:23 http://archive.ubuntu.com/ubuntu bionic-updates/universe amd64 nodejs-doc all 8.10.0~dfsg-2ubuntu0.4 [752 kB]\n",
            "Get:24 http://archive.ubuntu.com/ubuntu bionic/main amd64 python-asn1crypto all 0.24.0-1 [72.7 kB]\n",
            "Get:25 http://archive.ubuntu.com/ubuntu bionic/main amd64 python-cffi-backend amd64 1.11.5-1 [63.4 kB]\n",
            "Get:26 http://archive.ubuntu.com/ubuntu bionic/main amd64 python-enum34 all 1.1.6-2 [34.8 kB]\n",
            "Get:27 http://archive.ubuntu.com/ubuntu bionic/main amd64 python-ipaddress all 1.0.17-1 [18.2 kB]\n",
            "Get:28 http://archive.ubuntu.com/ubuntu bionic-updates/main amd64 python-cryptography amd64 2.1.4-1ubuntu1.4 [276 kB]\n",
            "Get:29 http://archive.ubuntu.com/ubuntu bionic/main amd64 python-webencodings all 0.5-2 [10.3 kB]\n",
            "Get:30 http://archive.ubuntu.com/ubuntu bionic/main amd64 python-html5lib all 0.999999999-1 [83.6 kB]\n",
            "Get:31 http://archive.ubuntu.com/ubuntu bionic/main amd64 python-openssl all 17.5.0-1ubuntu1 [41.3 kB]\n",
            "Get:32 http://archive.ubuntu.com/ubuntu bionic/universe amd64 python-sparqlwrapper all 1.7.6-2 [21.8 kB]\n",
            "Get:33 http://archive.ubuntu.com/ubuntu bionic/universe amd64 samtools amd64 1.7-1 [288 kB]\n",
            "Get:34 http://archive.ubuntu.com/ubuntu bionic-updates/main amd64 libc-ares2 amd64 1.14.0-1ubuntu0.1 [37.5 kB]\n",
            "Get:35 http://archive.ubuntu.com/ubuntu bionic-updates/universe amd64 nodejs amd64 8.10.0~dfsg-2ubuntu0.4 [4,796 kB]\n",
            "Fetched 8,568 kB in 1s (6,256 kB/s)\n",
            "debconf: unable to initialize frontend: Dialog\n",
            "debconf: (No usable dialog-like program is installed, so the dialog based frontend cannot be used. at /usr/share/perl5/Debconf/FrontEnd/Dialog.pm line 76, <> line 35.)\n",
            "debconf: falling back to frontend: Readline\n",
            "debconf: unable to initialize frontend: Readline\n",
            "debconf: (This frontend requires a controlling tty.)\n",
            "debconf: falling back to frontend: Teletype\n",
            "dpkg-preconfigure: unable to re-open stdin: \n",
            "Selecting previously unselected package python-pkg-resources.\n",
            "(Reading database ... 155064 files and directories currently installed.)\n",
            "Preparing to unpack .../00-python-pkg-resources_39.0.1-2_all.deb ...\n",
            "Unpacking python-pkg-resources (39.0.1-2) ...\n",
            "Selecting previously unselected package python-six.\n",
            "Preparing to unpack .../01-python-six_1.11.0-2_all.deb ...\n",
            "Unpacking python-six (1.11.0-2) ...\n",
            "Selecting previously unselected package python-isodate.\n",
            "Preparing to unpack .../02-python-isodate_0.6.0-1_all.deb ...\n",
            "Unpacking python-isodate (0.6.0-1) ...\n",
            "Selecting previously unselected package python-pyparsing.\n",
            "Preparing to unpack .../03-python-pyparsing_2.2.0+dfsg1-2_all.deb ...\n",
            "Unpacking python-pyparsing (2.2.0+dfsg1-2) ...\n",
            "Selecting previously unselected package python-rdflib.\n",
            "Preparing to unpack .../04-python-rdflib_4.2.1-2_all.deb ...\n",
            "Unpacking python-rdflib (4.2.1-2) ...\n",
            "Selecting previously unselected package python-certifi.\n",
            "Preparing to unpack .../05-python-certifi_2018.1.18-2_all.deb ...\n",
            "Unpacking python-certifi (2018.1.18-2) ...\n",
            "Selecting previously unselected package python-chardet.\n",
            "Preparing to unpack .../06-python-chardet_3.0.4-1_all.deb ...\n",
            "Unpacking python-chardet (3.0.4-1) ...\n",
            "Selecting previously unselected package python-idna.\n",
            "Preparing to unpack .../07-python-idna_2.6-1_all.deb ...\n",
            "Unpacking python-idna (2.6-1) ...\n",
            "Selecting previously unselected package python-urllib3.\n",
            "Preparing to unpack .../08-python-urllib3_1.22-1ubuntu0.18.04.2_all.deb ...\n",
            "Unpacking python-urllib3 (1.22-1ubuntu0.18.04.2) ...\n",
            "Selecting previously unselected package python-requests.\n",
            "Preparing to unpack .../09-python-requests_2.18.4-2ubuntu0.1_all.deb ...\n",
            "Unpacking python-requests (2.18.4-2ubuntu0.1) ...\n",
            "Selecting previously unselected package python-ruamel.yaml.\n",
            "Preparing to unpack .../10-python-ruamel.yaml_0.15.34-1_amd64.deb ...\n",
            "Unpacking python-ruamel.yaml (0.15.34-1) ...\n",
            "Selecting previously unselected package python-cachecontrol.\n",
            "Preparing to unpack .../11-python-cachecontrol_0.11.7-1_all.deb ...\n",
            "Unpacking python-cachecontrol (0.11.7-1) ...\n",
            "Selecting previously unselected package python-lockfile.\n",
            "Preparing to unpack .../12-python-lockfile_1%3a0.12.2-2_all.deb ...\n",
            "Unpacking python-lockfile (1:0.12.2-2) ...\n",
            "Selecting previously unselected package python-mistune.\n",
            "Preparing to unpack .../13-python-mistune_0.8.3-2_all.deb ...\n",
            "Unpacking python-mistune (0.8.3-2) ...\n",
            "Selecting previously unselected package python-rdflib-jsonld.\n",
            "Preparing to unpack .../14-python-rdflib-jsonld_0.4.0-3_all.deb ...\n",
            "Unpacking python-rdflib-jsonld (0.4.0-3) ...\n",
            "Selecting previously unselected package python-typing.\n",
            "Preparing to unpack .../15-python-typing_3.6.2-1_all.deb ...\n",
            "Unpacking python-typing (3.6.2-1) ...\n",
            "Selecting previously unselected package python-avro.\n",
            "Preparing to unpack .../16-python-avro_1.8.2+dfsg-1_all.deb ...\n",
            "Unpacking python-avro (1.8.2+dfsg-1) ...\n",
            "Selecting previously unselected package libjs-bootstrap.\n",
            "Preparing to unpack .../17-libjs-bootstrap_3.3.7+dfsg-2_all.deb ...\n",
            "Unpacking libjs-bootstrap (3.3.7+dfsg-2) ...\n",
            "Selecting previously unselected package python-schema-salad.\n",
            "Preparing to unpack .../18-python-schema-salad_2.6.20171201034858-3_all.deb ...\n",
            "Unpacking python-schema-salad (2.6.20171201034858-3) ...\n",
            "Selecting previously unselected package python-shellescape.\n",
            "Preparing to unpack .../19-python-shellescape_3.4.1-2_all.deb ...\n",
            "Unpacking python-shellescape (3.4.1-2) ...\n",
            "Selecting previously unselected package cwltool.\n",
            "Preparing to unpack .../20-cwltool_1.0.20180302231433-1_all.deb ...\n",
            "Unpacking cwltool (1.0.20180302231433-1) ...\n",
            "Selecting previously unselected package libhts2:amd64.\n",
            "Preparing to unpack .../21-libhts2_1.7-2_amd64.deb ...\n",
            "Unpacking libhts2:amd64 (1.7-2) ...\n",
            "Selecting previously unselected package nodejs-doc.\n",
            "Preparing to unpack .../22-nodejs-doc_8.10.0~dfsg-2ubuntu0.4_all.deb ...\n",
            "Unpacking nodejs-doc (8.10.0~dfsg-2ubuntu0.4) ...\n",
            "Selecting previously unselected package python-asn1crypto.\n",
            "Preparing to unpack .../23-python-asn1crypto_0.24.0-1_all.deb ...\n",
            "Unpacking python-asn1crypto (0.24.0-1) ...\n",
            "Selecting previously unselected package python-cffi-backend.\n",
            "Preparing to unpack .../24-python-cffi-backend_1.11.5-1_amd64.deb ...\n",
            "Unpacking python-cffi-backend (1.11.5-1) ...\n",
            "Selecting previously unselected package python-enum34.\n",
            "Preparing to unpack .../25-python-enum34_1.1.6-2_all.deb ...\n",
            "Unpacking python-enum34 (1.1.6-2) ...\n",
            "Selecting previously unselected package python-ipaddress.\n",
            "Preparing to unpack .../26-python-ipaddress_1.0.17-1_all.deb ...\n",
            "Unpacking python-ipaddress (1.0.17-1) ...\n",
            "Selecting previously unselected package python-cryptography.\n",
            "Preparing to unpack .../27-python-cryptography_2.1.4-1ubuntu1.4_amd64.deb ...\n",
            "Unpacking python-cryptography (2.1.4-1ubuntu1.4) ...\n",
            "Selecting previously unselected package python-webencodings.\n",
            "Preparing to unpack .../28-python-webencodings_0.5-2_all.deb ...\n",
            "Unpacking python-webencodings (0.5-2) ...\n",
            "Selecting previously unselected package python-html5lib.\n",
            "Preparing to unpack .../29-python-html5lib_0.999999999-1_all.deb ...\n",
            "Unpacking python-html5lib (0.999999999-1) ...\n",
            "Selecting previously unselected package python-openssl.\n",
            "Preparing to unpack .../30-python-openssl_17.5.0-1ubuntu1_all.deb ...\n",
            "Unpacking python-openssl (17.5.0-1ubuntu1) ...\n",
            "Selecting previously unselected package python-sparqlwrapper.\n",
            "Preparing to unpack .../31-python-sparqlwrapper_1.7.6-2_all.deb ...\n",
            "Unpacking python-sparqlwrapper (1.7.6-2) ...\n",
            "Selecting previously unselected package samtools.\n",
            "Preparing to unpack .../32-samtools_1.7-1_amd64.deb ...\n",
            "Unpacking samtools (1.7-1) ...\n",
            "Selecting previously unselected package libc-ares2:amd64.\n",
            "Preparing to unpack .../33-libc-ares2_1.14.0-1ubuntu0.1_amd64.deb ...\n",
            "Unpacking libc-ares2:amd64 (1.14.0-1ubuntu0.1) ...\n",
            "Selecting previously unselected package nodejs.\n",
            "Preparing to unpack .../34-nodejs_8.10.0~dfsg-2ubuntu0.4_amd64.deb ...\n",
            "Unpacking nodejs (8.10.0~dfsg-2ubuntu0.4) ...\n",
            "Setting up python-idna (2.6-1) ...\n",
            "Setting up nodejs-doc (8.10.0~dfsg-2ubuntu0.4) ...\n",
            "Setting up python-asn1crypto (0.24.0-1) ...\n",
            "Setting up python-mistune (0.8.3-2) ...\n",
            "Setting up python-certifi (2018.1.18-2) ...\n",
            "Setting up python-avro (1.8.2+dfsg-1) ...\n",
            "Setting up python-pkg-resources (39.0.1-2) ...\n",
            "Setting up python-ruamel.yaml (0.15.34-1) ...\n",
            "Setting up python-cffi-backend (1.11.5-1) ...\n",
            "Setting up python-six (1.11.0-2) ...\n",
            "Setting up python-isodate (0.6.0-1) ...\n",
            "Setting up python-shellescape (3.4.1-2) ...\n",
            "Setting up python-enum34 (1.1.6-2) ...\n",
            "Setting up libjs-bootstrap (3.3.7+dfsg-2) ...\n",
            "Setting up python-lockfile (1:0.12.2-2) ...\n",
            "Setting up python-ipaddress (1.0.17-1) ...\n",
            "Setting up libc-ares2:amd64 (1.14.0-1ubuntu0.1) ...\n",
            "Setting up libhts2:amd64 (1.7-2) ...\n",
            "Setting up python-webencodings (0.5-2) ...\n",
            "Setting up python-typing (3.6.2-1) ...\n",
            "Setting up python-pyparsing (2.2.0+dfsg1-2) ...\n",
            "Setting up python-urllib3 (1.22-1ubuntu0.18.04.2) ...\n",
            "Setting up python-chardet (3.0.4-1) ...\n",
            "Setting up nodejs (8.10.0~dfsg-2ubuntu0.4) ...\n",
            "update-alternatives: using /usr/bin/nodejs to provide /usr/bin/js (js) in auto mode\n",
            "Setting up python-rdflib (4.2.1-2) ...\n",
            "Setting up python-sparqlwrapper (1.7.6-2) ...\n",
            "Setting up python-rdflib-jsonld (0.4.0-3) ...\n",
            "Setting up python-cryptography (2.1.4-1ubuntu1.4) ...\n",
            "Setting up python-requests (2.18.4-2ubuntu0.1) ...\n",
            "Setting up python-cachecontrol (0.11.7-1) ...\n",
            "Setting up python-schema-salad (2.6.20171201034858-3) ...\n",
            "Setting up python-html5lib (0.999999999-1) ...\n",
            "Setting up samtools (1.7-1) ...\n",
            "Setting up python-openssl (17.5.0-1ubuntu1) ...\n",
            "Setting up cwltool (1.0.20180302231433-1) ...\n",
            "Processing triggers for libc-bin (2.27-3ubuntu1.3) ...\n",
            "/sbin/ldconfig.real: /usr/local/lib/python3.7/dist-packages/ideep4py/lib/libmkldnn.so.0 is not a symbolic link\n",
            "\n",
            "Processing triggers for man-db (2.8.3-2ubuntu0.1) ...\n"
          ]
        }
      ]
    },
    {
      "cell_type": "markdown",
      "metadata": {
        "id": "WMyRhSSKYxEt"
      },
      "source": [
        "Gets different stats with SAMTOOLS"
      ]
    },
    {
      "cell_type": "code",
      "metadata": {
        "id": "obz7fZ9qTYxa"
      },
      "source": [
        "!samtools flagstat /content/alinhado_mem.sam >saida_2_alinhado.txt"
      ],
      "execution_count": null,
      "outputs": []
    },
    {
      "cell_type": "code",
      "metadata": {
        "id": "LMXffYNAURK9"
      },
      "source": [
        "!samtools flagstat /content/alignments.sam >output_2_alignments.txt"
      ],
      "execution_count": null,
      "outputs": []
    },
    {
      "cell_type": "code",
      "metadata": {
        "id": "aIRKG3U7YGCh"
      },
      "source": [
        "!samtools stats /content/alinhado_mem.sam | grep ^SN | cut -f 2- >saida_3_alinhado.txt"
      ],
      "execution_count": null,
      "outputs": []
    },
    {
      "cell_type": "code",
      "metadata": {
        "id": "XbPD3RLXYFwL"
      },
      "source": [
        "!samtools stats /content/alignments.sam | grep ^SN | cut -f 2- >output_3_alignments.txt"
      ],
      "execution_count": null,
      "outputs": []
    }
  ]
}